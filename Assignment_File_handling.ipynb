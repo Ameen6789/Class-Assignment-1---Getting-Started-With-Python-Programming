{
  "nbformat": 4,
  "nbformat_minor": 0,
  "metadata": {
    "colab": {
      "name": "Assignment_File handling.ipynb",
      "provenance": [],
      "collapsed_sections": [],
      "include_colab_link": true
    },
    "kernelspec": {
      "name": "python3",
      "display_name": "Python 3"
    }
  },
  "cells": [
    {
      "cell_type": "markdown",
      "metadata": {
        "id": "view-in-github",
        "colab_type": "text"
      },
      "source": [
        "<a href=\"https://colab.research.google.com/github/Ameen6789/Class-Assignment-1---Getting-Started-with-Python-Programming/blob/master/Assignment_File_handling.ipynb\" target=\"_parent\"><img src=\"https://colab.research.google.com/assets/colab-badge.svg\" alt=\"Open In Colab\"/></a>"
      ]
    },
    {
      "cell_type": "markdown",
      "metadata": {
        "id": "oHmIEB82hU0Z"
      },
      "source": [
        " Question 1:"
      ]
    },
    {
      "cell_type": "code",
      "metadata": {
        "id": "xjaIVR1cJH-e",
        "outputId": "4666dd7b-8dfe-41a2-83f5-cee2a757e223",
        "colab": {
          "base_uri": "https://localhost:8080/"
        }
      },
      "source": [
        " import pickle\n",
        " f =open(\"n.txt\",\"w\")\n",
        " n = [11,8,1,3,9,3,1,2]\n",
        " s = pickle.dumps(n)\n",
        " f.close()\n",
        " f =open(\"n.txt\",\"r\")\n",
        " t = pickle.loads(s)\n",
        " t.sort()\n",
        " cp =[]\n",
        " for a in t:\n",
        "      if a not in cp: \n",
        "        cp.append(a)\n",
        " print(cp)\n",
        " \n",
        "str = \",\".join(str(i) for i in cp)\n",
        "f.close()\n",
        "f =open(\"n.txt\",\"w\")\n",
        "f.write(str)"
      ],
      "execution_count": 1,
      "outputs": [
        {
          "output_type": "stream",
          "text": [
            "[1, 2, 3, 8, 9, 11]\n"
          ],
          "name": "stdout"
        },
        {
          "output_type": "execute_result",
          "data": {
            "text/plain": [
              "12"
            ]
          },
          "metadata": {
            "tags": []
          },
          "execution_count": 1
        }
      ]
    },
    {
      "cell_type": "code",
      "metadata": {
        "id": "DMu2ue2qPneD",
        "outputId": "553aa9de-dc8e-45ba-8c0b-2d5fe66dbd6d",
        "colab": {
          "base_uri": "https://localhost:8080/",
          "height": 469
        }
      },
      "source": [
        ""
      ],
      "execution_count": null,
      "outputs": [
        {
          "output_type": "error",
          "ename": "TypeError",
          "evalue": "ignored",
          "traceback": [
            "\u001b[0;31m---------------------------------------------------------------------------\u001b[0m",
            "\u001b[0;31mTypeError\u001b[0m                                 Traceback (most recent call last)",
            "\u001b[0;32m<ipython-input-22-5891bc19f1c6>\u001b[0m in \u001b[0;36m<module>\u001b[0;34m()\u001b[0m\n\u001b[0;32m----> 1\u001b[0;31m \u001b[0mstr\u001b[0m \u001b[0;34m=\u001b[0m \u001b[0;34m\",\"\u001b[0m\u001b[0;34m.\u001b[0m\u001b[0mjoin\u001b[0m\u001b[0;34m(\u001b[0m\u001b[0mstr\u001b[0m\u001b[0;34m(\u001b[0m\u001b[0mi\u001b[0m\u001b[0;34m)\u001b[0m \u001b[0;32mfor\u001b[0m \u001b[0mi\u001b[0m \u001b[0;32min\u001b[0m \u001b[0mcp\u001b[0m\u001b[0;34m)\u001b[0m\u001b[0;34m\u001b[0m\u001b[0;34m\u001b[0m\u001b[0m\n\u001b[0m\u001b[1;32m      2\u001b[0m \u001b[0mf\u001b[0m\u001b[0;34m.\u001b[0m\u001b[0mclose\u001b[0m\u001b[0;34m(\u001b[0m\u001b[0;34m)\u001b[0m\u001b[0;34m\u001b[0m\u001b[0;34m\u001b[0m\u001b[0m\n\u001b[1;32m      3\u001b[0m \u001b[0mf\u001b[0m \u001b[0;34m=\u001b[0m\u001b[0mopen\u001b[0m\u001b[0;34m(\u001b[0m\u001b[0;34m\"n.txt\"\u001b[0m\u001b[0;34m,\u001b[0m\u001b[0;34m\"r\"\u001b[0m\u001b[0;34m)\u001b[0m\u001b[0;34m\u001b[0m\u001b[0;34m\u001b[0m\u001b[0m\n\u001b[1;32m      4\u001b[0m \u001b[0mf\u001b[0m\u001b[0;34m.\u001b[0m\u001b[0mread\u001b[0m\u001b[0;34m(\u001b[0m\u001b[0mstr\u001b[0m\u001b[0;34m)\u001b[0m\u001b[0;34m\u001b[0m\u001b[0;34m\u001b[0m\u001b[0m\n",
            "\u001b[0;32m<ipython-input-22-5891bc19f1c6>\u001b[0m in \u001b[0;36m<genexpr>\u001b[0;34m(.0)\u001b[0m\n\u001b[0;32m----> 1\u001b[0;31m \u001b[0mstr\u001b[0m \u001b[0;34m=\u001b[0m \u001b[0;34m\",\"\u001b[0m\u001b[0;34m.\u001b[0m\u001b[0mjoin\u001b[0m\u001b[0;34m(\u001b[0m\u001b[0mstr\u001b[0m\u001b[0;34m(\u001b[0m\u001b[0mi\u001b[0m\u001b[0;34m)\u001b[0m \u001b[0;32mfor\u001b[0m \u001b[0mi\u001b[0m \u001b[0;32min\u001b[0m \u001b[0mcp\u001b[0m\u001b[0;34m)\u001b[0m\u001b[0;34m\u001b[0m\u001b[0;34m\u001b[0m\u001b[0m\n\u001b[0m\u001b[1;32m      2\u001b[0m \u001b[0mf\u001b[0m\u001b[0;34m.\u001b[0m\u001b[0mclose\u001b[0m\u001b[0;34m(\u001b[0m\u001b[0;34m)\u001b[0m\u001b[0;34m\u001b[0m\u001b[0;34m\u001b[0m\u001b[0m\n\u001b[1;32m      3\u001b[0m \u001b[0mf\u001b[0m \u001b[0;34m=\u001b[0m\u001b[0mopen\u001b[0m\u001b[0;34m(\u001b[0m\u001b[0;34m\"n.txt\"\u001b[0m\u001b[0;34m,\u001b[0m\u001b[0;34m\"r\"\u001b[0m\u001b[0;34m)\u001b[0m\u001b[0;34m\u001b[0m\u001b[0;34m\u001b[0m\u001b[0m\n\u001b[1;32m      4\u001b[0m \u001b[0mf\u001b[0m\u001b[0;34m.\u001b[0m\u001b[0mread\u001b[0m\u001b[0;34m(\u001b[0m\u001b[0mstr\u001b[0m\u001b[0;34m)\u001b[0m\u001b[0;34m\u001b[0m\u001b[0;34m\u001b[0m\u001b[0m\n",
            "\u001b[0;31mTypeError\u001b[0m: 'str' object is not callable"
          ]
        }
      ]
    },
    {
      "cell_type": "code",
      "metadata": {
        "id": "TPMe3I09VIfy"
      },
      "source": [
        "f.close()"
      ],
      "execution_count": 2,
      "outputs": []
    },
    {
      "cell_type": "code",
      "metadata": {
        "id": "as0gzb_ghwpP",
        "outputId": "3230e580-4704-4b6f-b29a-449073ed7801",
        "colab": {
          "base_uri": "https://localhost:8080/"
        }
      },
      "source": [
        "def copyfile(oldfile,newfile):\n",
        "  f1 = open(oldfile,\"r\")\n",
        "  f2 = open(newfile,\"w\")\n",
        "  while True:\n",
        "    text=f1.read(50)\n",
        "    if text==\"\":\n",
        "      break\n",
        "    f2.write(text) \n",
        "  f1.close\n",
        "  f2.close\n",
        "  return\n",
        "copyfile(\"n.txt\",\"t.txt\")\n",
        "newfile=open(\"t.txt\",\"r\")   \n",
        "print(newfile.read())"
      ],
      "execution_count": 3,
      "outputs": [
        {
          "output_type": "stream",
          "text": [
            "1,2,3,8,9,11\n"
          ],
          "name": "stdout"
        }
      ]
    },
    {
      "cell_type": "markdown",
      "metadata": {
        "id": "s7RWWUjehIBh"
      },
      "source": [
        "   Answer for Question 2:"
      ]
    },
    {
      "cell_type": "code",
      "metadata": {
        "id": "RS6p4UUbVO-5",
        "outputId": "3e2128c6-e289-49cb-e8f6-6cbceeecfa29",
        "colab": {
          "base_uri": "https://localhost:8080/"
        }
      },
      "source": [
        " file1 = open(\"file1.txt\",\"w\")\n",
        " file1.write(\"line1 \\n\\n\\n line2\")"
      ],
      "execution_count": 5,
      "outputs": [
        {
          "output_type": "execute_result",
          "data": {
            "text/plain": [
              "15"
            ]
          },
          "metadata": {
            "tags": []
          },
          "execution_count": 5
        }
      ]
    },
    {
      "cell_type": "code",
      "metadata": {
        "id": "oVoLB0L7gSXu",
        "outputId": "f8551a5b-e2cf-41e0-b4a3-275cc8b03807",
        "colab": {
          "base_uri": "https://localhost:8080/"
        }
      },
      "source": [
        " file1.close()\n",
        " file1 = open(\"file1.txt\",\"r\")\n",
        " str1= file1.read()\n",
        " str2 = str1.replace(\"\\n\\n\\n\",\"\")\n",
        " print(str1)"
      ],
      "execution_count": 6,
      "outputs": [
        {
          "output_type": "stream",
          "text": [
            "line1 \n",
            "\n",
            "\n",
            " line2\n"
          ],
          "name": "stdout"
        }
      ]
    },
    {
      "cell_type": "code",
      "metadata": {
        "id": "0J5dPd4VgcKo",
        "outputId": "38e12530-f2a6-473a-b9d8-04a277d69245",
        "colab": {
          "base_uri": "https://localhost:8080/"
        }
      },
      "source": [
        "print(str2)"
      ],
      "execution_count": 7,
      "outputs": [
        {
          "output_type": "stream",
          "text": [
            "line1  line2\n"
          ],
          "name": "stdout"
        }
      ]
    },
    {
      "cell_type": "code",
      "metadata": {
        "id": "Jkm78umegkfQ",
        "outputId": "ecace79c-2638-4cf0-a417-7e096962cfb8",
        "colab": {
          "base_uri": "https://localhost:8080/"
        }
      },
      "source": [
        " \n",
        " file1 = open(\"file1.txt\",\"w\")\n",
        " file1.write(str2)"
      ],
      "execution_count": 8,
      "outputs": [
        {
          "output_type": "execute_result",
          "data": {
            "text/plain": [
              "12"
            ]
          },
          "metadata": {
            "tags": []
          },
          "execution_count": 8
        }
      ]
    },
    {
      "cell_type": "code",
      "metadata": {
        "id": "Ez2i0YRngrnP",
        "outputId": "eb94ef79-86f5-4be4-9b64-82ee55b2876a",
        "colab": {
          "base_uri": "https://localhost:8080/"
        }
      },
      "source": [
        " \n",
        "def copyFile(oldFile, newFile):\n",
        "  f1 = open(oldFile, \"r\")\n",
        "  f2 = open(newFile, \"w\")\n",
        "  while True:\n",
        "        text = f1.read()\n",
        "        if text == \"\":\n",
        "          break\n",
        "        f2.write(text)\n",
        "  f1.close()\n",
        "  f2.close()\n",
        "  return\n",
        "copyFile(\"file1.txt\",\"file2.txt\")\n",
        " file2 = open(\"file2.txt\",\"r\")\n",
        " print(file2.read())"
      ],
      "execution_count": 9,
      "outputs": [
        {
          "output_type": "stream",
          "text": [
            "\n"
          ],
          "name": "stdout"
        }
      ]
    }
  ]
}